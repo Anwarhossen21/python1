{
 "cells": [
  {
   "cell_type": "markdown",
   "id": "1c5dd710-6cfc-484d-8e4c-ac40dcdbea27",
   "metadata": {},
   "source": [
    "Veriable namea must start with a letter or an underscore"
   ]
  },
  {
   "cell_type": "code",
   "execution_count": 1,
   "id": "299ebd75-ca2d-4ab4-900a-621598742d0c",
   "metadata": {},
   "outputs": [
    {
     "ename": "SyntaxError",
     "evalue": "invalid decimal literal (3731376463.py, line 4)",
     "output_type": "error",
     "traceback": [
      "\u001b[1;36m  Cell \u001b[1;32mIn[1], line 4\u001b[1;36m\u001b[0m\n\u001b[1;33m    9x = False # start with numera1\u001b[0m\n\u001b[1;37m    ^\u001b[0m\n\u001b[1;31mSyntaxError\u001b[0m\u001b[1;31m:\u001b[0m invalid decimal literal\n"
     ]
    }
   ],
   "source": [
    "x = True #valid\n",
    "_y = True #valid\n",
    "\n",
    "9x = False # start with numera1"
   ]
  },
  {
   "cell_type": "markdown",
   "id": "6328470a-7266-4fdd-9be8-f5dcfc06c781",
   "metadata": {},
   "source": [
    "Names are case sensitive."
   ]
  },
  {
   "cell_type": "code",
   "execution_count": 2,
   "id": "f43a7840-e9b0-4d07-8173-1fa4da11d586",
   "metadata": {},
   "outputs": [],
   "source": [
    "x = 9\n",
    "y = x*5"
   ]
  },
  {
   "cell_type": "code",
   "execution_count": 3,
   "id": "22e9f46b-d735-4cbe-a532-bf096ec36833",
   "metadata": {},
   "outputs": [
    {
     "name": "stdout",
     "output_type": "stream",
     "text": [
      "<class 'int'>\n"
     ]
    }
   ],
   "source": [
    "a = 2\n",
    "print(type(a))"
   ]
  },
  {
   "cell_type": "code",
   "execution_count": 4,
   "id": "7282a33c-90a2-4605-97ff-9e6f8602ac98",
   "metadata": {},
   "outputs": [
    {
     "name": "stdout",
     "output_type": "stream",
     "text": [
      "<class 'int'>\n"
     ]
    }
   ],
   "source": [
    "b = 9223372036854775807\n",
    "print(type(b))"
   ]
  },
  {
   "cell_type": "code",
   "execution_count": 5,
   "id": "88ad2db8-075a-4332-aa5a-22c624f91de2",
   "metadata": {},
   "outputs": [
    {
     "name": "stdout",
     "output_type": "stream",
     "text": [
      "<class 'float'>\n"
     ]
    }
   ],
   "source": [
    "pi = 3.14\n",
    "print(type(pi))"
   ]
  },
  {
   "cell_type": "code",
   "execution_count": 6,
   "id": "cc24c369-a4a3-44e7-9427-cd363a228b0b",
   "metadata": {},
   "outputs": [
    {
     "name": "stdout",
     "output_type": "stream",
     "text": [
      "<class 'str'>\n"
     ]
    }
   ],
   "source": [
    "c = 'A'\n",
    "print(type(c))"
   ]
  },
  {
   "cell_type": "code",
   "execution_count": 7,
   "id": "ff48f432-fc5b-4f89-a2c4-70aa88133411",
   "metadata": {},
   "outputs": [
    {
     "name": "stdout",
     "output_type": "stream",
     "text": [
      "<class 'str'>\n"
     ]
    }
   ],
   "source": [
    "name = 'anowar hossen'\n",
    "print(type(name))"
   ]
  },
  {
   "cell_type": "code",
   "execution_count": 8,
   "id": "0342f543-a87a-4b25-9a41-cf47cc4d1f52",
   "metadata": {},
   "outputs": [
    {
     "name": "stdout",
     "output_type": "stream",
     "text": [
      "<class 'bool'>\n"
     ]
    }
   ],
   "source": [
    "q = True\n",
    "print(type(q))"
   ]
  },
  {
   "cell_type": "code",
   "execution_count": 9,
   "id": "91bda9bf-5c07-4b5a-ad3b-18b1f5223708",
   "metadata": {},
   "outputs": [
    {
     "name": "stdout",
     "output_type": "stream",
     "text": [
      "<class 'NoneType'>\n"
     ]
    }
   ],
   "source": [
    "x = None\n",
    "print(type(x))"
   ]
  },
  {
   "cell_type": "code",
   "execution_count": 10,
   "id": "82291382-0549-4594-a202-5d8e887d1fce",
   "metadata": {},
   "outputs": [
    {
     "name": "stdout",
     "output_type": "stream",
     "text": [
      "1 2 3\n"
     ]
    }
   ],
   "source": [
    "a,b,c =1,2,3\n",
    "print(a,b,c)"
   ]
  },
  {
   "cell_type": "code",
   "execution_count": 11,
   "id": "28153a35-9a49-448a-8dd1-95b513d33530",
   "metadata": {},
   "outputs": [
    {
     "ename": "ValueError",
     "evalue": "not enough values to unpack (expected 3, got 2)",
     "output_type": "error",
     "traceback": [
      "\u001b[1;31m---------------------------------------------------------------------------\u001b[0m",
      "\u001b[1;31mValueError\u001b[0m                                Traceback (most recent call last)",
      "Cell \u001b[1;32mIn[11], line 1\u001b[0m\n\u001b[1;32m----> 1\u001b[0m a,b,c \u001b[38;5;241m=\u001b[39m \u001b[38;5;241m1\u001b[39m,\u001b[38;5;241m2\u001b[39m\n",
      "\u001b[1;31mValueError\u001b[0m: not enough values to unpack (expected 3, got 2)"
     ]
    }
   ],
   "source": [
    "a,b,c = 1,2\n"
   ]
  },
  {
   "cell_type": "markdown",
   "id": "328acabd-9706-4a23-9de7-5b3c62e82014",
   "metadata": {},
   "source": [
    "this is the value Error but input 3 and value 2 the not enough ."
   ]
  },
  {
   "cell_type": "code",
   "execution_count": 12,
   "id": "3d2613bd-0800-4973-b819-960519448c80",
   "metadata": {},
   "outputs": [
    {
     "ename": "ValueError",
     "evalue": "too many values to unpack (expected 2)",
     "output_type": "error",
     "traceback": [
      "\u001b[1;31m---------------------------------------------------------------------------\u001b[0m",
      "\u001b[1;31mValueError\u001b[0m                                Traceback (most recent call last)",
      "Cell \u001b[1;32mIn[12], line 1\u001b[0m\n\u001b[1;32m----> 1\u001b[0m a,b, \u001b[38;5;241m=\u001b[39m \u001b[38;5;241m1\u001b[39m,\u001b[38;5;241m2\u001b[39m,\u001b[38;5;241m3\u001b[39m\n",
      "\u001b[1;31mValueError\u001b[0m: too many values to unpack (expected 2)"
     ]
    }
   ],
   "source": [
    "a,b, = 1,2,3"
   ]
  },
  {
   "cell_type": "markdown",
   "id": "c966779f-cdeb-457c-84b3-d16297fbc657",
   "metadata": {},
   "source": [
    "this is the value Error but input 2 and value 3 the not enough ."
   ]
  },
  {
   "cell_type": "code",
   "execution_count": 13,
   "id": "cda8d426-4184-47b4-9876-0d60020f1fa8",
   "metadata": {},
   "outputs": [
    {
     "name": "stdout",
     "output_type": "stream",
     "text": [
      "1 2\n"
     ]
    }
   ],
   "source": [
    "a,b,_ = 1,2,3\n",
    "print(a,b)"
   ]
  },
  {
   "cell_type": "markdown",
   "id": "3ab9737a-28b1-418d-814c-f76318ec1ada",
   "metadata": {},
   "source": [
    "Note that the number of _ and number of remaining values must be equal. Otherwise 'too many values to unpack\n",
    "error' is thrown as above"
   ]
  },
  {
   "cell_type": "code",
   "execution_count": 14,
   "id": "21c80339-2000-45be-9697-959c6f232c06",
   "metadata": {},
   "outputs": [
    {
     "ename": "ValueError",
     "evalue": "too many values to unpack (expected 3)",
     "output_type": "error",
     "traceback": [
      "\u001b[1;31m---------------------------------------------------------------------------\u001b[0m",
      "\u001b[1;31mValueError\u001b[0m                                Traceback (most recent call last)",
      "Cell \u001b[1;32mIn[14], line 1\u001b[0m\n\u001b[1;32m----> 1\u001b[0m a,b,_ \u001b[38;5;241m=\u001b[39m \u001b[38;5;241m1\u001b[39m,\u001b[38;5;241m2\u001b[39m,\u001b[38;5;241m3\u001b[39m,\u001b[38;5;241m4\u001b[39m\n",
      "\u001b[1;31mValueError\u001b[0m: too many values to unpack (expected 3)"
     ]
    }
   ],
   "source": [
    "a,b,_ = 1,2,3,4\n"
   ]
  },
  {
   "cell_type": "markdown",
   "id": "c930a588-f595-45f1-89b2-a0f24e4d693e",
   "metadata": {},
   "source": [
    "You can also assign a single value to several variables simultaneously."
   ]
  },
  {
   "cell_type": "code",
   "execution_count": 15,
   "id": "a809b5bc-22ae-4ab5-a7fe-1db35fa279f2",
   "metadata": {},
   "outputs": [
    {
     "name": "stdout",
     "output_type": "stream",
     "text": [
      "1 1 1\n"
     ]
    }
   ],
   "source": [
    "a=b=c=1\n",
    "print(a,b,c)"
   ]
  },
  {
   "cell_type": "markdown",
   "id": "d07b9493-4ad3-41c5-b0f0-34656f3a0086",
   "metadata": {},
   "source": [
    "When using such cascading assignment, it is important to note that all three variables a, b and c refer to the same\n",
    "object in memory, an int object with the value of 1. In other words, a, b and c are three diﬀerent names given to the\n",
    "same int object. Assigning a diﬀerent object to one of them afterwards doesn't change the others, just as expected:"
   ]
  },
  {
   "cell_type": "code",
   "execution_count": 16,
   "id": "dab73b09-4cf2-43f2-ad4c-cb3586baf4ed",
   "metadata": {},
   "outputs": [
    {
     "name": "stdout",
     "output_type": "stream",
     "text": [
      "1 1 1\n"
     ]
    }
   ],
   "source": [
    "a=b=c=1 #all three names a, b and c refer to same int object with value 1\n",
    "print(a,b,c)"
   ]
  },
  {
   "cell_type": "code",
   "execution_count": 18,
   "id": "4876a810-d526-4c57-9e7d-5bb888a92e12",
   "metadata": {},
   "outputs": [
    {
     "name": "stdout",
     "output_type": "stream",
     "text": [
      "1 2 1\n"
     ]
    }
   ],
   "source": [
    "b=2 # b now refers to another int object , one with a value ofn2\n",
    "print(a,b,c) # so output is as expected."
   ]
  },
  {
   "cell_type": "markdown",
   "id": "91c1d18a-12a3-4d82-9820-eaea7751510a",
   "metadata": {},
   "source": [
    "The above is also true for mutable types (like list, dict, etc.) just as it is true for immutable types (like int, string,\r\n",
    "tuple, etc.):"
   ]
  },
  {
   "cell_type": "code",
   "execution_count": 19,
   "id": "eb139a56-016b-4d91-824e-96fd26cbb141",
   "metadata": {},
   "outputs": [
    {
     "name": "stdout",
     "output_type": "stream",
     "text": [
      "[7, 9, 8]\n"
     ]
    }
   ],
   "source": [
    "x = y = [7,9,8] # x and y refer to same list object just created [7,9,8]\n",
    "x = [13,8,9] # x now refers to a different list object just created, [13,8,9]\n",
    "print(y)"
   ]
  },
  {
   "cell_type": "code",
   "execution_count": 20,
   "id": "0eee9049-de67-45d5-8184-66c8937a5ade",
   "metadata": {},
   "outputs": [
    {
     "name": "stdout",
     "output_type": "stream",
     "text": [
      "[13, 8, 9] [7, 9, 8]\n"
     ]
    }
   ],
   "source": [
    "print(x,y)"
   ]
  },
  {
   "cell_type": "code",
   "execution_count": 21,
   "id": "10507444-85bf-40c2-b0c2-227b7675c8b9",
   "metadata": {},
   "outputs": [
    {
     "name": "stdout",
     "output_type": "stream",
     "text": [
      "[13, 8, 9]\n"
     ]
    }
   ],
   "source": [
    "x=y=[7,8,9] # x and are two different names for the same list object just created,[7,8,9]\n",
    "x[0] = 13 # we are updatting the value of the list [7,8,9] through one of its names, x in this case\n",
    "print(y) # printing the value of the list using its other name "
   ]
  },
  {
   "cell_type": "code",
   "execution_count": null,
   "id": "5a073f06-c956-424e-923d-084866aa261d",
   "metadata": {},
   "outputs": [],
   "source": []
  }
 ],
 "metadata": {
  "kernelspec": {
   "display_name": "Python 3 (ipykernel)",
   "language": "python",
   "name": "python3"
  },
  "language_info": {
   "codemirror_mode": {
    "name": "ipython",
    "version": 3
   },
   "file_extension": ".py",
   "mimetype": "text/x-python",
   "name": "python",
   "nbconvert_exporter": "python",
   "pygments_lexer": "ipython3",
   "version": "3.11.7"
  }
 },
 "nbformat": 4,
 "nbformat_minor": 5
}
