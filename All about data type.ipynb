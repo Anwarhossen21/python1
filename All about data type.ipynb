{
 "cells": [
  {
   "cell_type": "markdown",
   "id": "bec553c3-6f24-4ffa-9ad0-0d4190fc2d87",
   "metadata": {},
   "source": [
    "Numeric Types:"
   ]
  },
  {
   "cell_type": "code",
   "execution_count": 5,
   "id": "e0d63a20-b99c-4cc4-b2cd-22b88a6e45c6",
   "metadata": {},
   "outputs": [],
   "source": [
    "#Numeric Data types\n",
    "x = 10 # interger\n",
    "y= 10.5 #float\n",
    "z= 10+5j # 10 is a real number and 5j is imaginary\n"
   ]
  },
  {
   "cell_type": "code",
   "execution_count": 6,
   "id": "ed949523-14aa-485b-9ff6-940c0584faa4",
   "metadata": {},
   "outputs": [
    {
     "data": {
      "text/plain": [
       "int"
      ]
     },
     "execution_count": 6,
     "metadata": {},
     "output_type": "execute_result"
    }
   ],
   "source": [
    "type(x)"
   ]
  },
  {
   "cell_type": "code",
   "execution_count": 7,
   "id": "f8f9d677-afd3-4ace-aa78-633b186f6dab",
   "metadata": {},
   "outputs": [
    {
     "data": {
      "text/plain": [
       "float"
      ]
     },
     "execution_count": 7,
     "metadata": {},
     "output_type": "execute_result"
    }
   ],
   "source": [
    "type(y)"
   ]
  },
  {
   "cell_type": "code",
   "execution_count": 8,
   "id": "9241679e-be6e-48c0-b277-2baa7bc9325e",
   "metadata": {},
   "outputs": [
    {
     "data": {
      "text/plain": [
       "complex"
      ]
     },
     "execution_count": 8,
     "metadata": {},
     "output_type": "execute_result"
    }
   ],
   "source": [
    "type(z)"
   ]
  },
  {
   "cell_type": "code",
   "execution_count": 9,
   "id": "ae124f90-4bce-45b4-b340-1f062b334e86",
   "metadata": {},
   "outputs": [
    {
     "data": {
      "text/plain": [
       "False"
      ]
     },
     "execution_count": 9,
     "metadata": {},
     "output_type": "execute_result"
    }
   ],
   "source": [
    "isinstance(x,complex)"
   ]
  },
  {
   "cell_type": "code",
   "execution_count": 10,
   "id": "e4ef4e8b-b8af-4f1b-a0e8-28ac615634d7",
   "metadata": {},
   "outputs": [
    {
     "data": {
      "text/plain": [
       "True"
      ]
     },
     "execution_count": 10,
     "metadata": {},
     "output_type": "execute_result"
    }
   ],
   "source": [
    "isinstance(z,complex)"
   ]
  },
  {
   "cell_type": "code",
   "execution_count": 11,
   "id": "8c1fb17e-3043-4294-b7d3-a769ab1a2a01",
   "metadata": {},
   "outputs": [
    {
     "data": {
      "text/plain": [
       "False"
      ]
     },
     "execution_count": 11,
     "metadata": {},
     "output_type": "execute_result"
    }
   ],
   "source": [
    "isinstance(x,float)"
   ]
  },
  {
   "cell_type": "code",
   "execution_count": 12,
   "id": "a4154d2f-04ef-48d4-bae3-acc4e5acf5fb",
   "metadata": {},
   "outputs": [
    {
     "data": {
      "text/plain": [
       "True"
      ]
     },
     "execution_count": 12,
     "metadata": {},
     "output_type": "execute_result"
    }
   ],
   "source": [
    "isinstance(x,int)"
   ]
  },
  {
   "cell_type": "code",
   "execution_count": 13,
   "id": "c03c57ec-712a-4155-908e-b79dde18e04a",
   "metadata": {},
   "outputs": [
    {
     "data": {
      "text/plain": [
       "True"
      ]
     },
     "execution_count": 13,
     "metadata": {},
     "output_type": "execute_result"
    }
   ],
   "source": [
    "isinstance(y,float)"
   ]
  },
  {
   "cell_type": "code",
   "execution_count": 14,
   "id": "2f6a2172-1c8d-43a4-90f9-733eb79d57c3",
   "metadata": {},
   "outputs": [
    {
     "data": {
      "text/plain": [
       "False"
      ]
     },
     "execution_count": 14,
     "metadata": {},
     "output_type": "execute_result"
    }
   ],
   "source": [
    "isinstance(10,complex)"
   ]
  },
  {
   "cell_type": "code",
   "execution_count": 15,
   "id": "6dda4e6f-580e-4936-addb-2863e84da91c",
   "metadata": {},
   "outputs": [
    {
     "data": {
      "text/plain": [
       "False"
      ]
     },
     "execution_count": 15,
     "metadata": {},
     "output_type": "execute_result"
    }
   ],
   "source": [
    "isinstance(10,float)"
   ]
  },
  {
   "cell_type": "code",
   "execution_count": 16,
   "id": "ddeec2d9-09bd-478e-a528-d249151f7d07",
   "metadata": {},
   "outputs": [
    {
     "data": {
      "text/plain": [
       "True"
      ]
     },
     "execution_count": 16,
     "metadata": {},
     "output_type": "execute_result"
    }
   ],
   "source": [
    "isinstance(10,int)"
   ]
  },
  {
   "cell_type": "code",
   "execution_count": 22,
   "id": "aa78a3d2-eb9e-478c-93d3-bd1d682871ae",
   "metadata": {},
   "outputs": [],
   "source": [
    "#int is a float\n",
    "n = float(x) #canvert the interge number to float"
   ]
  },
  {
   "cell_type": "code",
   "execution_count": 23,
   "id": "4db068c4-189d-4397-8ec6-7ec7849eec28",
   "metadata": {},
   "outputs": [
    {
     "data": {
      "text/plain": [
       "10.0"
      ]
     },
     "execution_count": 23,
     "metadata": {},
     "output_type": "execute_result"
    }
   ],
   "source": [
    "n"
   ]
  },
  {
   "cell_type": "code",
   "execution_count": 24,
   "id": "44b00e35-795d-4967-8585-0046d01e03fb",
   "metadata": {},
   "outputs": [
    {
     "data": {
      "text/plain": [
       "float"
      ]
     },
     "execution_count": 24,
     "metadata": {},
     "output_type": "execute_result"
    }
   ],
   "source": [
    "type(n)"
   ]
  },
  {
   "cell_type": "code",
   "execution_count": 25,
   "id": "d5367df7-f61f-48d3-98ef-024fa578015b",
   "metadata": {},
   "outputs": [],
   "source": [
    "#int is a int\n",
    "n= int(n) #convert the flot number to interge"
   ]
  },
  {
   "cell_type": "code",
   "execution_count": 26,
   "id": "7254bbd2-978f-43e0-8888-61ec22fadfad",
   "metadata": {},
   "outputs": [
    {
     "data": {
      "text/plain": [
       "10"
      ]
     },
     "execution_count": 26,
     "metadata": {},
     "output_type": "execute_result"
    }
   ],
   "source": [
    "n"
   ]
  },
  {
   "cell_type": "code",
   "execution_count": 27,
   "id": "951665ae-5dd4-472c-99d5-24f3143ab6e4",
   "metadata": {},
   "outputs": [
    {
     "data": {
      "text/plain": [
       "int"
      ]
     },
     "execution_count": 27,
     "metadata": {},
     "output_type": "execute_result"
    }
   ],
   "source": [
    "type(n)"
   ]
  },
  {
   "cell_type": "code",
   "execution_count": 28,
   "id": "915a6c09-c48a-43d4-8f10-1d4022e77c8d",
   "metadata": {},
   "outputs": [],
   "source": [
    "#int is a complex\n",
    "n = complex(n) #10+0j"
   ]
  },
  {
   "cell_type": "code",
   "execution_count": 29,
   "id": "a6071e9b-e6fc-4106-bb61-f9e1df7cb05d",
   "metadata": {},
   "outputs": [
    {
     "data": {
      "text/plain": [
       "(10+0j)"
      ]
     },
     "execution_count": 29,
     "metadata": {},
     "output_type": "execute_result"
    }
   ],
   "source": [
    "n"
   ]
  },
  {
   "cell_type": "code",
   "execution_count": 30,
   "id": "86398d26-d3e5-48f6-881f-e01669fbf058",
   "metadata": {},
   "outputs": [
    {
     "data": {
      "text/plain": [
       "complex"
      ]
     },
     "execution_count": 30,
     "metadata": {},
     "output_type": "execute_result"
    }
   ],
   "source": [
    "type(n)"
   ]
  },
  {
   "cell_type": "code",
   "execution_count": 31,
   "id": "e8000811-906a-4e25-9fc0-413e890de6b1",
   "metadata": {},
   "outputs": [
    {
     "name": "stdin",
     "output_type": "stream",
     "text": [
      "Enter your complex number:- 1+5j\n"
     ]
    }
   ],
   "source": [
    "# complex the user input the user number\n",
    "n = complex(input('Enter your complex number:-'))"
   ]
  },
  {
   "cell_type": "code",
   "execution_count": 32,
   "id": "c5d097d5-2a4c-4c48-9062-071153175f64",
   "metadata": {},
   "outputs": [
    {
     "data": {
      "text/plain": [
       "(1+5j)"
      ]
     },
     "execution_count": 32,
     "metadata": {},
     "output_type": "execute_result"
    }
   ],
   "source": [
    "n"
   ]
  },
  {
   "cell_type": "code",
   "execution_count": null,
   "id": "78e76db9-9161-4bef-a570-4e5688e1ad66",
   "metadata": {},
   "outputs": [],
   "source": []
  },
  {
   "cell_type": "code",
   "execution_count": 33,
   "id": "77fedf04-4854-48aa-bcb0-ceb13ce5b193",
   "metadata": {},
   "outputs": [
    {
     "name": "stdin",
     "output_type": "stream",
     "text": [
      "Enter your complex number:- 1\n"
     ]
    }
   ],
   "source": [
    "# complex the user input the user number\n",
    "n = complex(input('Enter your complex number:-'))"
   ]
  },
  {
   "cell_type": "code",
   "execution_count": 34,
   "id": "998edd27-1667-45a6-b345-0e2d08333859",
   "metadata": {},
   "outputs": [
    {
     "data": {
      "text/plain": [
       "(1+0j)"
      ]
     },
     "execution_count": 34,
     "metadata": {},
     "output_type": "execute_result"
    }
   ],
   "source": [
    "n"
   ]
  },
  {
   "cell_type": "code",
   "execution_count": 35,
   "id": "fabbf50c-e09f-474f-9087-4b91652498ce",
   "metadata": {},
   "outputs": [
    {
     "data": {
      "text/plain": [
       "complex"
      ]
     },
     "execution_count": 35,
     "metadata": {},
     "output_type": "execute_result"
    }
   ],
   "source": [
    "type(n)"
   ]
  },
  {
   "cell_type": "code",
   "execution_count": 36,
   "id": "71db62c7-2267-4784-b273-9b2be09f349d",
   "metadata": {},
   "outputs": [
    {
     "name": "stdin",
     "output_type": "stream",
     "text": [
      "Enter your intarge number:- 1\n"
     ]
    }
   ],
   "source": [
    "n = int(input('Enter your intarge number:-'))"
   ]
  },
  {
   "cell_type": "code",
   "execution_count": 37,
   "id": "93baedee-6535-476f-a29f-6d2182754f59",
   "metadata": {},
   "outputs": [
    {
     "data": {
      "text/plain": [
       "1"
      ]
     },
     "execution_count": 37,
     "metadata": {},
     "output_type": "execute_result"
    }
   ],
   "source": [
    "n"
   ]
  },
  {
   "cell_type": "code",
   "execution_count": 38,
   "id": "15a8de2f-fca3-42e3-8ec3-eec114883900",
   "metadata": {},
   "outputs": [
    {
     "data": {
      "text/plain": [
       "int"
      ]
     },
     "execution_count": 38,
     "metadata": {},
     "output_type": "execute_result"
    }
   ],
   "source": [
    "type(n)"
   ]
  },
  {
   "cell_type": "code",
   "execution_count": 39,
   "id": "ed749b75-0989-45e6-895c-26dbffe2e71f",
   "metadata": {},
   "outputs": [
    {
     "name": "stdin",
     "output_type": "stream",
     "text": [
      "Enter your float number:- 5\n"
     ]
    }
   ],
   "source": [
    "n = float(input('Enter your float number:-'))"
   ]
  },
  {
   "cell_type": "code",
   "execution_count": 40,
   "id": "3c9b7d35-b289-4ba6-baa3-f81d33309cab",
   "metadata": {},
   "outputs": [
    {
     "data": {
      "text/plain": [
       "5.0"
      ]
     },
     "execution_count": 40,
     "metadata": {},
     "output_type": "execute_result"
    }
   ],
   "source": [
    "n"
   ]
  },
  {
   "cell_type": "code",
   "execution_count": 41,
   "id": "731ce5da-6f8e-4a53-bcb7-19da8363edae",
   "metadata": {},
   "outputs": [
    {
     "data": {
      "text/plain": [
       "float"
      ]
     },
     "execution_count": 41,
     "metadata": {},
     "output_type": "execute_result"
    }
   ],
   "source": [
    "type(n)"
   ]
  },
  {
   "cell_type": "markdown",
   "id": "2dc49e53-adf4-421c-9acb-7ed7da33bb5d",
   "metadata": {},
   "source": [
    "Boolean Type:"
   ]
  },
  {
   "cell_type": "code",
   "execution_count": 42,
   "id": "4d1859a7-ee01-4f2d-89a8-71b607ab13f6",
   "metadata": {},
   "outputs": [],
   "source": [
    "x = True #Boolean data type\n",
    "y = False"
   ]
  },
  {
   "cell_type": "code",
   "execution_count": 43,
   "id": "5f7cdc92-a317-4a2e-9499-286b2fd140e0",
   "metadata": {},
   "outputs": [
    {
     "data": {
      "text/plain": [
       "True"
      ]
     },
     "execution_count": 43,
     "metadata": {},
     "output_type": "execute_result"
    }
   ],
   "source": [
    "x"
   ]
  },
  {
   "cell_type": "code",
   "execution_count": 44,
   "id": "ec4e0750-fde6-4cc7-83c2-6152721944ae",
   "metadata": {},
   "outputs": [
    {
     "data": {
      "text/plain": [
       "False"
      ]
     },
     "execution_count": 44,
     "metadata": {},
     "output_type": "execute_result"
    }
   ],
   "source": [
    "y"
   ]
  },
  {
   "cell_type": "code",
   "execution_count": 45,
   "id": "6f5842ca-eed7-4e5d-a5e1-868dea1eaa2b",
   "metadata": {},
   "outputs": [
    {
     "data": {
      "text/plain": [
       "True"
      ]
     },
     "execution_count": 45,
     "metadata": {},
     "output_type": "execute_result"
    }
   ],
   "source": [
    "True"
   ]
  },
  {
   "cell_type": "code",
   "execution_count": 46,
   "id": "c981dfff-3cbc-4a07-be97-853981733160",
   "metadata": {},
   "outputs": [
    {
     "data": {
      "text/plain": [
       "bool"
      ]
     },
     "execution_count": 46,
     "metadata": {},
     "output_type": "execute_result"
    }
   ],
   "source": [
    "type(x)"
   ]
  },
  {
   "cell_type": "code",
   "execution_count": 47,
   "id": "d0489050-45a3-4f4c-8741-eb5278052b01",
   "metadata": {},
   "outputs": [
    {
     "data": {
      "text/plain": [
       "bool"
      ]
     },
     "execution_count": 47,
     "metadata": {},
     "output_type": "execute_result"
    }
   ],
   "source": [
    "type(y)"
   ]
  },
  {
   "cell_type": "code",
   "execution_count": 48,
   "id": "b30fd115-b170-4479-a900-bee796525f07",
   "metadata": {},
   "outputs": [
    {
     "ename": "NameError",
     "evalue": "name 'true' is not defined",
     "output_type": "error",
     "traceback": [
      "\u001b[1;31m---------------------------------------------------------------------------\u001b[0m",
      "\u001b[1;31mNameError\u001b[0m                                 Traceback (most recent call last)",
      "Cell \u001b[1;32mIn[48], line 1\u001b[0m\n\u001b[1;32m----> 1\u001b[0m true\n",
      "\u001b[1;31mNameError\u001b[0m: name 'true' is not defined"
     ]
    }
   ],
   "source": [
    "true"
   ]
  },
  {
   "cell_type": "markdown",
   "id": "d975fdd3-5468-4469-8da4-0151d0894a36",
   "metadata": {},
   "source": [
    "Sequence Data Types:"
   ]
  },
  {
   "cell_type": "code",
   "execution_count": 53,
   "id": "03a94fc1-1e1b-498e-9b24-99352c2282c4",
   "metadata": {},
   "outputs": [],
   "source": [
    "#list\n",
    "lst= [1,2,2,3,3,4,True,[2,3,4,5],'Data',(7,9,8,6)]"
   ]
  },
  {
   "cell_type": "code",
   "execution_count": 54,
   "id": "653f3663-c2b2-4919-9804-f25d1f45a3e2",
   "metadata": {},
   "outputs": [
    {
     "data": {
      "text/plain": [
       "[1, 2, 2, 3, 3, 4, True, [2, 3, 4, 5], 'Data', (7, 9, 8, 6)]"
      ]
     },
     "execution_count": 54,
     "metadata": {},
     "output_type": "execute_result"
    }
   ],
   "source": [
    "lst"
   ]
  },
  {
   "cell_type": "code",
   "execution_count": 55,
   "id": "79fa5c26-b88e-4278-ba3a-88fac30009b5",
   "metadata": {},
   "outputs": [
    {
     "data": {
      "text/plain": [
       "-1"
      ]
     },
     "execution_count": 55,
     "metadata": {},
     "output_type": "execute_result"
    }
   ],
   "source": [
    "-1"
   ]
  },
  {
   "cell_type": "code",
   "execution_count": 62,
   "id": "ed8015ed-6fb4-4b88-aac6-cd8b752d92f4",
   "metadata": {},
   "outputs": [
    {
     "data": {
      "text/plain": [
       "-6"
      ]
     },
     "execution_count": 62,
     "metadata": {},
     "output_type": "execute_result"
    }
   ],
   "source": [
    "-6"
   ]
  },
  {
   "cell_type": "code",
   "execution_count": 63,
   "id": "be873e07-f6e2-4754-bd3f-f631340999cd",
   "metadata": {},
   "outputs": [
    {
     "data": {
      "text/plain": [
       "'Data'"
      ]
     },
     "execution_count": 63,
     "metadata": {},
     "output_type": "execute_result"
    }
   ],
   "source": [
    "lst[-2]"
   ]
  },
  {
   "cell_type": "code",
   "execution_count": 64,
   "id": "96906c23-c879-4d1b-b684-89e06954ccf8",
   "metadata": {},
   "outputs": [
    {
     "data": {
      "text/plain": [
       "(7, 9, 8, 6)"
      ]
     },
     "execution_count": 64,
     "metadata": {},
     "output_type": "execute_result"
    }
   ],
   "source": [
    "lst[-1]"
   ]
  },
  {
   "cell_type": "code",
   "execution_count": 65,
   "id": "184131f2-26da-4c84-af00-1bf2f812abdd",
   "metadata": {},
   "outputs": [
    {
     "data": {
      "text/plain": [
       "1"
      ]
     },
     "execution_count": 65,
     "metadata": {},
     "output_type": "execute_result"
    }
   ],
   "source": [
    "lst[0]"
   ]
  },
  {
   "cell_type": "code",
   "execution_count": 66,
   "id": "6db49549-6c49-4092-8445-e9b06cac99d6",
   "metadata": {},
   "outputs": [
    {
     "data": {
      "text/plain": [
       "list"
      ]
     },
     "execution_count": 66,
     "metadata": {},
     "output_type": "execute_result"
    }
   ],
   "source": [
    "type(lst)"
   ]
  },
  {
   "cell_type": "code",
   "execution_count": 73,
   "id": "c9495c3e-069b-4fb8-b0bf-eab35fcb3ae9",
   "metadata": {},
   "outputs": [
    {
     "data": {
      "text/plain": [
       "False"
      ]
     },
     "execution_count": 73,
     "metadata": {},
     "output_type": "execute_result"
    }
   ],
   "source": [
    "isinstance(lst,tuple)"
   ]
  },
  {
   "cell_type": "code",
   "execution_count": 75,
   "id": "a2b8f75b-7b10-4b11-9f03-33d278d56846",
   "metadata": {},
   "outputs": [
    {
     "data": {
      "text/plain": [
       "False"
      ]
     },
     "execution_count": 75,
     "metadata": {},
     "output_type": "execute_result"
    }
   ],
   "source": [
    "isinstance(lst,tuple)"
   ]
  },
  {
   "cell_type": "code",
   "execution_count": 76,
   "id": "bde230eb-c021-49d4-9ecb-4620f9a1b0d8",
   "metadata": {},
   "outputs": [
    {
     "data": {
      "text/plain": [
       "[1, 2, 2, 3, 3, 4, True, [2, 3, 4, 5], 'Data', (7, 9, 8, 6)]"
      ]
     },
     "execution_count": 76,
     "metadata": {},
     "output_type": "execute_result"
    }
   ],
   "source": [
    "lst"
   ]
  },
  {
   "cell_type": "code",
   "execution_count": 77,
   "id": "4327386a-7251-45df-acc9-8556eec5179d",
   "metadata": {},
   "outputs": [
    {
     "data": {
      "text/plain": [
       "list"
      ]
     },
     "execution_count": 77,
     "metadata": {},
     "output_type": "execute_result"
    }
   ],
   "source": [
    "type(lst)"
   ]
  },
  {
   "cell_type": "code",
   "execution_count": null,
   "id": "70d58eca-8f25-4764-9f7a-6fd4482ce1af",
   "metadata": {},
   "outputs": [],
   "source": []
  }
 ],
 "metadata": {
  "kernelspec": {
   "display_name": "Python 3 (ipykernel)",
   "language": "python",
   "name": "python3"
  },
  "language_info": {
   "codemirror_mode": {
    "name": "ipython",
    "version": 3
   },
   "file_extension": ".py",
   "mimetype": "text/x-python",
   "name": "python",
   "nbconvert_exporter": "python",
   "pygments_lexer": "ipython3",
   "version": "3.11.7"
  }
 },
 "nbformat": 4,
 "nbformat_minor": 5
}
